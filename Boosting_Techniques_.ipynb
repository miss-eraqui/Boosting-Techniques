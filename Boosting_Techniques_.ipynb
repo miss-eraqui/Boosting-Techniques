{
  "nbformat": 4,
  "nbformat_minor": 0,
  "metadata": {
    "colab": {
      "provenance": []
    },
    "kernelspec": {
      "name": "python3",
      "display_name": "Python 3"
    },
    "language_info": {
      "name": "python"
    }
  },
  "cells": [
    {
      "cell_type": "markdown",
      "source": [
        "1. What is Boosting in Machine Learning? Explain how it improves weak learners.\n",
        "\n",
        "   -> Boosting is an ensemble technique used in machine learning to improve the accuracy of predictive models. The fundamental idea is to combine several weak learners—models that perform only slightly better than random guessing—into a single, strong learner that can make highly accurate predictions.\n",
        "\n",
        "   Boosting improves weak learners in machine learning by combining several models that individually perform only slightly better than random guessing into a single, highly accurate model. It works through a sequential process where each new learner focuses on correcting the mistakes made by the previous ones. During training, the algorithm gives more weight to misclassified data points, forcing subsequent models to pay closer attention to those difficult cases. As this iterative process continues, each successive weak learner learns from the errors of its predecessors, effectively reducing bias and variance. By aggregating the predictions of all weak learners—often through weighted voting or averaging—boosting produces a strong learner capable of making more precise and reliable predictions than any single weak model could achieve alone."
      ],
      "metadata": {
        "id": "3l8I-QlMR_2o"
      }
    },
    {
      "cell_type": "markdown",
      "source": [
        "2. What is the difference between AdaBoost and Gradient Boosting in terms\n",
        "of how models are trained?\n",
        "\n",
        "   -> AdaBoost and Gradient Boosting differ primarily in how they train their models and handle errors. AdaBoost adjusts the weights of training instances based on whether they were misclassified by the previous weak learner. Specifically, it increases the weights for the misclassified samples so that the next weak learner focuses more on these harder-to-classify cases. The contributions of each weak learner are combined based on their accuracy, giving more influence to better-performing models.\n",
        "  \n",
        "   In contrast, Gradient Boosting trains models by optimizing a loss function using a gradient descent approach. Instead of reweighting data points, Gradient Boosting fits each new weak learner on the residual errors (or gradients of the loss function) made by the combined ensemble so far. This means each learner attempts to correct the errors of the previous ensemble by learning the negative gradients of the loss, effectively improving the model stage by stage through direct optimization.\n",
        "\n"
      ],
      "metadata": {
        "id": "AJw1-YVRS5lu"
      }
    },
    {
      "cell_type": "markdown",
      "source": [
        "3. How does regularization help in XGBoost?\n",
        "\n",
        "   -> Regularization in XGBoost helps prevent overfitting and improves model generalization by adding penalties to the model's complexity within the objective function. XGBoost uses both L1 (Lasso) and L2 (Ridge) regularization, controlled by the hyperparameters alpha (reg_alpha) and lambda (reg_lambda), respectively. L1 regularization encourages sparsity by driving some leaf weights to zero, simplifying the model, while L2 regularization smooths the leaf weights to reduce their magnitude without forcing exact zeros. Besides these, XGBoost includes other regularization techniques such as early stopping, which halts training when no improvement is observed, minimum child weight to ensure a minimum sum of instance weights per leaf (making trees simpler), and gamma which requires a minimum loss reduction for further splits, promoting simpler tree structures. These mechanisms collectively control model complexity, help avoid fitting noise in the data, and boost predictive performance on unseen data."
      ],
      "metadata": {
        "id": "CPOwMA82TQR8"
      }
    },
    {
      "cell_type": "markdown",
      "source": [
        "4. Why is CatBoost considered efficient for handling categorical data?\n",
        "\n",
        "   -> CatBoost is considered efficient for handling categorical data because it natively processes categorical features without requiring manual preprocessing like one-hot or label encoding. Unlike traditional methods that convert categorical variables into high-dimensional or ordinal numerical formats, CatBoost uses a technique called \"ordered boosting\" combined with advanced statistics-based encodings to represent categories internally. This approach reduces the risk of data leakage and overfitting commonly associated with other encoding methods. By calculating statistics (such as mean target values per category) from previous data points in an order-sensitive manner, CatBoost preserves the informative relationships between categories while avoiding noise. This results in better generalization, faster training times, and less preprocessing effort, making CatBoost highly effective for datasets with high-cardinality and complex categorical features. Its built-in handling thus improves model accuracy and robustness in real-world applications across various domains such as finance, healthcare, and e-commerce.\n",
        "   \n",
        "   \n",
        "\n"
      ],
      "metadata": {
        "id": "1msSPx8DTh7Q"
      }
    },
    {
      "cell_type": "markdown",
      "source": [
        "5. What are some real-world applications where boosting techniques are\n",
        "preferred over bagging methods?\n",
        "\n",
        "   -> Boosting techniques are preferred over bagging methods in real-world applications where improving predictive accuracy by sequentially correcting errors is critical, especially on complex or less noisy datasets. For example, in finance (credit scoring and fraud detection), boosting models like XGBoost or AdaBoost excel at capturing subtle patterns and reducing bias to enhance decision accuracy. In healthcare, boosting helps predict patient outcomes by refining weak learners to focus on hard-to-classify cases, thus improving diagnosis precision. E-commerce and recommendation systems leverage boosting for personalized predictions by iteratively learning from errors, which is essential for user-specific preferences. Unlike bagging, which focuses on reducing variance and works well with high-variance models and noisy data through parallel training, boosting’s sequential training fine-tunes models step-by-step, making it powerful for scenarios demanding high accuracy and adaptive learning from data nuances. However, boosting can be more prone to overfitting if not carefully tuned."
      ],
      "metadata": {
        "id": "avwItD3sUM0M"
      }
    },
    {
      "cell_type": "markdown",
      "source": [
        "6.  ● Use sklearn.datasets.load_breast_cancer() for classification tasks.\n",
        "● Use sklearn.datasets.fetch_california_housing() for regression\n",
        "tasks.\n",
        "Question 6: Write a Python program to:\n",
        "● Train an AdaBoost Classifier on the Breast Cancer dataset\n",
        "● Print the model accuracy\n",
        "(Include your Python code and output in the code box below.)\n"
      ],
      "metadata": {
        "id": "vBPaBSN4Ueh6"
      }
    },
    {
      "cell_type": "code",
      "execution_count": 3,
      "metadata": {
        "colab": {
          "base_uri": "https://localhost:8080/"
        },
        "id": "hShhF-VLR-h_",
        "outputId": "1b747694-a041-4963-f95c-afc6b5eb29ab"
      },
      "outputs": [
        {
          "output_type": "stream",
          "name": "stdout",
          "text": [
            "AdaBoost Classifier Accuracy on Breast Cancer Dataset: 0.9708\n"
          ]
        }
      ],
      "source": [
        "from sklearn.datasets import load_breast_cancer\n",
        "from sklearn.model_selection import train_test_split\n",
        "from sklearn.ensemble import AdaBoostClassifier\n",
        "from sklearn.metrics import accuracy_score\n",
        "\n",
        "## Load the Breast Cancer dataset\n",
        "data = load_breast_cancer()\n",
        "X = data.data\n",
        "y = data.target\n",
        "\n",
        "## Split the data into training and testing sets\n",
        "X_train, X_test, y_train, y_test = train_test_split(X, y, test_size=0.3, random_state=42)\n",
        "\n",
        "## Initialize the AdaBoost Classifier\n",
        "model = AdaBoostClassifier(random_state=42)\n",
        "\n",
        "## Train the model\n",
        "model.fit(X_train, y_train)\n",
        "\n",
        "## Predict on the test set\n",
        "y_pred = model.predict(X_test)\n",
        "\n",
        "## Calculate and print the accuracy\n",
        "accuracy = accuracy_score(y_test, y_pred)\n",
        "print(f\"AdaBoost Classifier Accuracy on Breast Cancer Dataset: {accuracy:.4f}\")"
      ]
    },
    {
      "cell_type": "markdown",
      "source": [
        "7. Write a Python program to:\n",
        "● Train a Gradient Boosting Regressor on the California Housing dataset\n",
        "● Evaluate performance using R-squared score\n",
        "(Include your Python code and output in the code box below.)"
      ],
      "metadata": {
        "id": "oKeh75syVndi"
      }
    },
    {
      "cell_type": "code",
      "source": [
        "from sklearn.datasets import fetch_california_housing\n",
        "from sklearn.ensemble import GradientBoostingRegressor\n",
        "from sklearn.model_selection import train_test_split\n",
        "from sklearn.metrics import r2_score\n",
        "from sklearn.preprocessing import StandardScaler\n",
        "\n",
        "## Load the California Housing dataset\n",
        "data = fetch_california_housing()\n",
        "X, y = data.data, data.target\n",
        "\n",
        "## Standardize features\n",
        "scaler = StandardScaler()\n",
        "X_scaled = scaler.fit_transform(X)\n",
        "\n",
        "## Split the data into training and test sets\n",
        "X_train, X_test, y_train, y_test = train_test_split(X_scaled, y, test_size=0.2, random_state=42)\n",
        "\n",
        "## Initialize and train the Gradient Boosting Regressor\n",
        "model = GradientBoostingRegressor(random_state=42)\n",
        "model.fit(X_train, y_train)\n",
        "\n",
        "## Predict on the test set\n",
        "y_pred = model.predict(X_test)\n",
        "\n",
        "## Evaluate performance using R-squared score\n",
        "r2 = r2_score(y_test, y_pred)\n",
        "print(\"R-squared score:\", r2)\n"
      ],
      "metadata": {
        "colab": {
          "base_uri": "https://localhost:8080/"
        },
        "id": "XH-uMn5hV4tH",
        "outputId": "dfef9861-dbe3-4c4d-9495-7820532383de"
      },
      "execution_count": 4,
      "outputs": [
        {
          "output_type": "stream",
          "name": "stdout",
          "text": [
            "R-squared score: 0.7756433164710084\n"
          ]
        }
      ]
    },
    {
      "cell_type": "markdown",
      "source": [
        "8. Write a Python program to:\n",
        "● Train an XGBoost Classifier on the Breast Cancer dataset\n",
        "● Tune the learning rate using GridSearchCV\n",
        "● Print the best parameters and accuracy\n",
        "(Include your Python code and output in the code box below.)"
      ],
      "metadata": {
        "id": "NTliJC91WiH5"
      }
    },
    {
      "cell_type": "code",
      "source": [
        "from sklearn.datasets import load_breast_cancer\n",
        "from xgboost import XGBClassifier\n",
        "from sklearn.model_selection import GridSearchCV, train_test_split\n",
        "from sklearn.metrics import accuracy_score\n",
        "\n",
        "## Load Breast Cancer dataset\n",
        "data = load_breast_cancer()\n",
        "X, y = data.data, data.target\n",
        "\n",
        "## Split data into train and test sets\n",
        "X_train, X_test, y_train, y_test = train_test_split(X, y, test_size=0.2, random_state=42)\n",
        "\n",
        "## Initialize XGBoost Classifier\n",
        "xgb = XGBClassifier(use_label_encoder=False, eval_metric='logloss', random_state=42)\n",
        "\n",
        "## Define parameter grid for learning rate tuning\n",
        "param_grid = {'learning_rate': [0.01, 0.1, 0.2, 0.3]}\n",
        "\n",
        "## Setup GridSearchCV with 5-fold cross-validation\n",
        "grid_search = GridSearchCV(estimator=xgb, param_grid=param_grid, cv=5, scoring='accuracy', n_jobs=-1)\n",
        "\n",
        "## Train model with hyperparameter tuning\n",
        "grid_search.fit(X_train, y_train)\n",
        "\n",
        "## Predict on test set using best estimator\n",
        "y_pred = grid_search.best_estimator_.predict(X_test)\n",
        "\n",
        "## Calculate accuracy on test set\n",
        "accuracy = accuracy_score(y_test, y_pred)\n",
        "\n",
        "## Print best parameters and accuracy\n",
        "print(\"Best learning rate:\", grid_search.best_params_['learning_rate'])\n",
        "print(\"Test set accuracy:\", accuracy)"
      ],
      "metadata": {
        "colab": {
          "base_uri": "https://localhost:8080/"
        },
        "id": "6WmhA2oNW6aw",
        "outputId": "9b1d9e3b-51c7-4ae4-d19e-f94d8b31654b"
      },
      "execution_count": 8,
      "outputs": [
        {
          "output_type": "stream",
          "name": "stdout",
          "text": [
            "Best learning rate: 0.2\n",
            "Test set accuracy: 0.956140350877193\n"
          ]
        },
        {
          "output_type": "stream",
          "name": "stderr",
          "text": [
            "/usr/local/lib/python3.12/dist-packages/xgboost/training.py:183: UserWarning: [18:52:14] WARNING: /workspace/src/learner.cc:738: \n",
            "Parameters: { \"use_label_encoder\" } are not used.\n",
            "\n",
            "  bst.update(dtrain, iteration=i, fobj=obj)\n"
          ]
        }
      ]
    },
    {
      "cell_type": "markdown",
      "source": [
        "9. Write a Python program to:\n",
        "● Train a CatBoost Classifier\n",
        "● Plot the confusion matrix using seaborn\n",
        "(Include your Python code and output in the code box below.)"
      ],
      "metadata": {
        "id": "UD0kpS8NXiXY"
      }
    },
    {
      "cell_type": "code",
      "source": [
        "from sklearn.datasets import load_breast_cancer\n",
        "from catboost import CatBoostClassifier\n",
        "from sklearn.model_selection import train_test_split\n",
        "from sklearn.metrics import confusion_matrix, accuracy_score\n",
        "import seaborn as sns\n",
        "import matplotlib.pyplot as plt\n",
        "\n",
        "## Load Breast Cancer dataset\n",
        "data = load_breast_cancer()\n",
        "X, y = data.data, data.target\n",
        "\n",
        "## Split the dataset into training and test sets\n",
        "X_train, X_test, y_train, y_test = train_test_split(X, y, test_size=0.2, random_state=42)\n",
        "\n",
        "## Initialize CatBoost Classifier\n",
        "model = CatBoostClassifier(verbose=0, random_state=42)\n",
        "\n",
        "## Train the model\n",
        "model.fit(X_train, y_train)\n",
        "\n",
        "## Predict on test set\n",
        "y_pred = model.predict(X_test)\n",
        "\n",
        "## Calculate accuracy\n",
        "accuracy = accuracy_score(y_test, y_pred)\n",
        "print(f\"Accuracy: {accuracy:.4f}\")\n",
        "\n",
        "## Compute confusion matrix\n",
        "cm = confusion_matrix(y_test, y_pred)\n",
        "\n",
        "## Plot confusion matrix using seaborn\n",
        "plt.figure(figsize=(8,6))\n",
        "sns.heatmap(cm, annot=True, fmt='d', cmap='Blues', xticklabels=data.target_names, yticklabels=data.target_names)\n",
        "plt.xlabel('Predicted')\n",
        "plt.ylabel('Actual')\n",
        "plt.title('Confusion Matrix - CatBoost Classifier')\n",
        "plt.show()"
      ],
      "metadata": {
        "colab": {
          "base_uri": "https://localhost:8080/",
          "height": 581
        },
        "id": "c9uuU8RJXsQT",
        "outputId": "40ca96ce-f439-4b1c-a46e-da5889bb0f5c"
      },
      "execution_count": 14,
      "outputs": [
        {
          "output_type": "stream",
          "name": "stdout",
          "text": [
            "Accuracy: 0.9737\n"
          ]
        },
        {
          "output_type": "display_data",
          "data": {
            "text/plain": [
              "<Figure size 800x600 with 2 Axes>"
            ],
            "image/png": "[encoded data removed]"
          },
          "metadata": {}
        }
      ]
    },
    {
      "cell_type": "markdown",
      "source": [
        "10. You're working for a FinTech company trying to predict loan default using\n",
        "customer demographics and transaction behavior.\n",
        "The dataset is imbalanced, contains missing values, and has both numeric and\n",
        "categorical features.\n",
        "Describe your step-by-step data science pipeline using boosting techniques:\n",
        "● Data preprocessing & handling missing/categorical values\n",
        "● Choice between AdaBoost, XGBoost, or CatBoost\n",
        "● Hyperparameter tuning strategy\n",
        "● Evaluation metrics you'd choose and why\n",
        "● How the business would benefit from your model\n",
        "(Include your Python code and output in the code box below.)\n",
        "\n",
        "     -> The step-by-step data science pipeline for a FinTech company trying to predict loan default, using boosting techniques (e.g., XGBoost, CatBoost, or AdaBoost). The problem is a binary classification task with challenges such as:\n",
        "    \n",
        "● Imbalanced dataset\n",
        "\n",
        "● Missing values\n",
        "\n",
        "● Mixed data types (numeric + categorical)\n",
        "\n",
        "Step-by-step Pipeline:\n",
        " 1. Data Preprocessing\n",
        "\n",
        "● Missing values:\n",
        "\n",
        "  ● Numerical: Impute with median (robust to outliers)\n",
        "\n",
        "  ● Categorical: Impute with mode or use models that handle missing natively (like CatBoost)\n",
        "\n",
        "● Categorical Encoding:\n",
        "\n",
        "  ● Label encoding or one-hot encoding (XGBoost requires manual encoding; CatBoost can handle categorical variables directly)\n",
        "\n",
        "● Imbalanced data:\n",
        "\n",
        "  ● Use scale_pos_weight (XGBoost), class_weights (CatBoost) or resampling techniques like SMOTE, or adjust the loss function.\n",
        "\n",
        " 2. Model Selection\n",
        "\n",
        "● CatBoost is preferred due to:\n",
        "\n",
        " ● Native handling of categorical variables\n",
        "\n",
        " ● Native handling of missing values\n",
        "\n",
        " ● Excellent performance on imbalanced datasets\n",
        "\n",
        " ● Faster training with less preprocessing\n",
        "\n",
        " So, we’ll choose CatBoostClassifier\n",
        "\n",
        " 3. Hyperparameter Tuning\n",
        "\n",
        "Use RandomizedSearchCV or Optuna for efficient tuning.\n",
        "\n",
        "Key parameters:\n",
        "\n",
        "● iterations\n",
        "\n",
        "● learning_rate\n",
        "\n",
        "● depth\n",
        "\n",
        "● l2_leaf_reg\n",
        "\n",
        "● scale_pos_weight (to handle imbalance)\n",
        "\n",
        " 4. Evaluation Metrics\n",
        "\n",
        "Due to imbalance, use:\n",
        "\n",
        "● AUC-ROC (good for binary classification)\n",
        "● F1-score (balances precision & recall)\n",
        "● Precision & Recall\n",
        "● Confusion Matrix\n",
        "\n",
        "\n",
        "\n"
      ],
      "metadata": {
        "id": "6xjqR5WrY0Ci"
      }
    },
    {
      "cell_type": "code",
      "source": [
        "## Install catboost if not already installed\n",
        "## !pip install catboost scikit-learn pandas numpy\n",
        "\n",
        "import pandas as pd\n",
        "import numpy as np\n",
        "from sklearn.model_selection import train_test_split, RandomizedSearchCV\n",
        "from sklearn.metrics import classification_report, roc_auc_score, confusion_matrix\n",
        "from catboost import CatBoostClassifier, Pool\n",
        "\n",
        "## Step 1: Load your dataset (replace with actual dataset)\n",
        "## For demonstration, we'll simulate a small dataset with mixed types\n",
        "np.random.seed(0)\n",
        "data = pd.DataFrame({\n",
        "    'age': np.random.randint(21, 65, 1000),\n",
        "    'income': np.random.normal(50000, 15000, 1000),\n",
        "    'employment_status': np.random.choice(['Employed', 'Unemployed', 'Self-employed'], 1000),\n",
        "    'loan_amount': np.random.normal(10000, 3000, 1000),\n",
        "    'credit_score': np.random.randint(300, 850, 1000),\n",
        "    'defaulted': np.random.choice([0, 1], 1000, p=[0.9, 0.1])\n",
        "})\n",
        "\n",
        "## Simulate missing values\n",
        "data.loc[data.sample(frac=0.1).index, 'income'] = np.nan\n",
        "data.loc[data.sample(frac=0.1).index, 'employment_status'] = np.nan\n",
        "\n",
        "## Step 2: Handle missing values - Fill missing categorical values\n",
        "data['employment_status'] = data['employment_status'].fillna('Missing')\n",
        "\n",
        "## Step 3: Identify categorical features\n",
        "cat_features = ['employment_status']\n",
        "\n",
        "## Step 4: Split dataset\n",
        "X = data.drop('defaulted', axis=1)\n",
        "y = data['defaulted']\n",
        "X_train, X_test, y_train, y_test = train_test_split(X, y, stratify=y, test_size=0.2, random_state=42)\n",
        "\n",
        "## Step 5: Define and train CatBoostClassifier\n",
        "model = CatBoostClassifier(\n",
        "    iterations=500,\n",
        "    learning_rate=0.05,\n",
        "    depth=6,\n",
        "    loss_function='Logloss',\n",
        "    eval_metric='AUC',\n",
        "    verbose=100,\n",
        "    cat_features=cat_features,\n",
        "    random_state=42,\n",
        "    scale_pos_weight=9  # because ~90% are non-default\n",
        ")\n",
        "\n",
        "## Train\n",
        "model.fit(X_train, y_train, eval_set=(X_test, y_test), use_best_model=True)\n",
        "\n",
        "## Step 6: Predict and evaluate\n",
        "y_pred = model.predict(X_test)\n",
        "y_prob = model.predict_proba(X_test)[:, 1]\n",
        "\n",
        "print(\"Classification Report:\")\n",
        "print(classification_report(y_test, y_pred))\n",
        "print(\"ROC-AUC Score:\", roc_auc_score(y_test, y_prob))\n",
        "print(\"Confusion Matrix:\")\n",
        "print(confusion_matrix(y_test, y_pred))"
      ],
      "metadata": {
        "colab": {
          "base_uri": "https://localhost:8080/"
        },
        "id": "RAJBhay-cD2T",
        "outputId": "3df513f4-5b6a-4d45-d213-48ccbc2f6464"
      },
      "execution_count": 25,
      "outputs": [
        {
          "output_type": "stream",
          "name": "stdout",
          "text": [
            "0:\ttest: 0.5063920\tbest: 0.5063920 (0)\ttotal: 5.66ms\tremaining: 2.82s\n",
            "100:\ttest: 0.4206913\tbest: 0.5107718 (2)\ttotal: 286ms\tremaining: 1.13s\n",
            "200:\ttest: 0.4559659\tbest: 0.5107718 (2)\ttotal: 592ms\tremaining: 880ms\n",
            "300:\ttest: 0.4855587\tbest: 0.5107718 (2)\ttotal: 928ms\tremaining: 613ms\n",
            "400:\ttest: 0.4798769\tbest: 0.5107718 (2)\ttotal: 1.25s\tremaining: 309ms\n",
            "499:\ttest: 0.4713542\tbest: 0.5107718 (2)\ttotal: 1.57s\tremaining: 0us\n",
            "\n",
            "bestTest = 0.5107717803\n",
            "bestIteration = 2\n",
            "\n",
            "Shrink model to first 3 iterations.\n",
            "Classification Report:\n",
            "              precision    recall  f1-score   support\n",
            "\n",
            "           0       0.88      0.26      0.40       176\n",
            "           1       0.12      0.75      0.21        24\n",
            "\n",
            "    accuracy                           0.32       200\n",
            "   macro avg       0.50      0.51      0.31       200\n",
            "weighted avg       0.79      0.32      0.38       200\n",
            "\n",
            "ROC-AUC Score: 0.5107717803030303\n",
            "Confusion Matrix:\n",
            "[[ 46 130]\n",
            " [  6  18]]\n"
          ]
        }
      ]
    }
  ]
}